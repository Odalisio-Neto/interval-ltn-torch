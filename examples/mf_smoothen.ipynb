{
 "cells": [
  {
   "cell_type": "code",
   "execution_count": 1,
   "metadata": {},
   "outputs": [],
   "source": [
    "import matplotlib.pyplot as plt\n",
    "import numpy as np\n",
    "import iltn\n",
    "import tensorflow as tf\n",
    "from iltn.utils.ops import softplus"
   ]
  },
  {
   "cell_type": "code",
   "execution_count": 2,
   "metadata": {},
   "outputs": [],
   "source": [
    "iltn.utils.plot.set_tex_style()"
   ]
  },
  {
   "cell_type": "code",
   "execution_count": 3,
   "metadata": {},
   "outputs": [],
   "source": [
    "A = iltn.events.TrapzEvent(\"A\", [2,4,6,8], trainable=False, beta=2.)"
   ]
  },
  {
   "cell_type": "code",
   "execution_count": 4,
   "metadata": {},
   "outputs": [],
   "source": [
    "def mf(x, trapz: iltn.events.TrapzEvent, smooth=False, beta=1.):\n",
    "    if smooth:\n",
    "        res = tf.where(\n",
    "            x<=trapz.a,\n",
    "            softplus(x-trapz.a, beta=beta),\n",
    "            tf.where(\n",
    "                x<=trapz.b,\n",
    "                (x-trapz.a)/tf.maximum(trapz.b-trapz.a,1e-9), # fix for crisp edge\n",
    "                tf.where(\n",
    "                    x<=trapz.c,\n",
    "                    1.-softplus(tf.maximum(trapz.b-x,x-trapz.c), beta=beta),\n",
    "                    tf.where(\n",
    "                        x<=trapz.d,\n",
    "                        (x-trapz.d)/tf.minimum(trapz.c-trapz.d,-1e-9), # fix for crisp edge \n",
    "                        softplus(trapz.d-x, beta=beta)\n",
    "                    )\n",
    "                )\n",
    "            )\n",
    "        )\n",
    "    else:\n",
    "        res = tf.where(\n",
    "            x<=trapz.a,\n",
    "            0.,\n",
    "            tf.where(\n",
    "                x<=trapz.b,\n",
    "                (x-trapz.a)/tf.maximum(trapz.b-trapz.a,1e-9), # fix for crisp edge\n",
    "                tf.where(\n",
    "                    x<=trapz.c,\n",
    "                    1.,\n",
    "                    tf.where(\n",
    "                        x<=trapz.d,\n",
    "                        (x-trapz.d)/tf.minimum(trapz.c-trapz.d,-1e-9), # fix for crisp edge\n",
    "                        0.\n",
    "                    )\n",
    "                )\n",
    "            )\n",
    "        )\n",
    "    return res"
   ]
  },
  {
   "cell_type": "code",
   "execution_count": 5,
   "metadata": {},
   "outputs": [],
   "source": [
    "def calculate_derivatives(x, trapz: iltn.events.TrapzEvent, **kwargs):\n",
    "    with tf.GradientTape() as tape:\n",
    "        x_var = tf.Variable(x)\n",
    "        y = mf(x_var, trapz, **kwargs)\n",
    "    grads = tape.gradient(y,x_var)\n",
    "    return grads.numpy()"
   ]
  },
  {
   "cell_type": "code",
   "execution_count": 6,
   "metadata": {},
   "outputs": [
    {
     "name": "stdout",
     "output_type": "stream",
     "text": [
      "Metal device set to: Apple M1\n",
      "\n",
      "systemMemory: 16.00 GB\n",
      "maxCacheSize: 5.33 GB\n",
      "\n"
     ]
    },
    {
     "name": "stderr",
     "output_type": "stream",
     "text": [
      "2023-03-31 14:14:57.539702: I tensorflow/core/common_runtime/pluggable_device/pluggable_device_factory.cc:306] Could not identify NUMA node of platform GPU ID 0, defaulting to 0. Your kernel may not have been built with NUMA support.\n",
      "2023-03-31 14:14:57.539876: I tensorflow/core/common_runtime/pluggable_device/pluggable_device_factory.cc:272] Created TensorFlow device (/job:localhost/replica:0/task:0/device:GPU:0 with 0 MB memory) -> physical PluggableDevice (device: 0, name: METAL, pci bus id: <undefined>)\n"
     ]
    },
    {
     "data": {
      "image/png": "[encoded data removed]",
      "text/plain": [
       "<Figure size 415.11x256.552 with 4 Axes>"
      ]
     },
     "metadata": {},
     "output_type": "display_data"
    }
   ],
   "source": [
    "fig, axes = plt.subplots(2,2,figsize=iltn.utils.plot.set_size(300., subplots=(2, 2)))\n",
    "for ax in (axes[0][0], axes[1][0]):\n",
    "    ax.set_yticks([0.,1.])\n",
    "    ax.set_xticks([0.,A.a,A.b,A.c,A.d,10.])\n",
    "\n",
    "for ax in ( axes[1][0],axes[1][1]):\n",
    "    ax.set_xticks([0.,A.a,A.b,A.c,A.d,10.])\n",
    "\n",
    "x = np.arange(0.,A.a,0.01).astype(np.float32)\n",
    "axes[0][0].plot(x, mf(x,A), c=\"blue\")\n",
    "axes[1][0].plot(x, mf(x,A,smooth=True), c=\"blue\")\n",
    "axes[0][1].plot(x, calculate_derivatives(x,A), c=\"blue\")\n",
    "axes[1][1].plot(x, calculate_derivatives(x,A, smooth=True, beta=1.), c=\"blue\")\n",
    "\n",
    "x = np.arange(A.a+.01,A.b,0.01).astype(np.float32)\n",
    "axes[0][0].plot(x, mf(x,A), c=\"blue\")\n",
    "axes[1][0].plot(x, mf(x,A,smooth=True), c=\"blue\")\n",
    "axes[0][1].plot(x, calculate_derivatives(x,A), c=\"blue\")\n",
    "axes[1][1].plot(x, calculate_derivatives(x,A, smooth=True, beta=1.), c=\"blue\")\n",
    "\n",
    "x = np.arange(A.b+.01,(A.b+A.c)/2,0.01).astype(np.float32)\n",
    "axes[0][0].plot(x, mf(x,A), c=\"blue\")\n",
    "axes[1][0].plot(x, mf(x,A,smooth=True), c=\"blue\")\n",
    "axes[0][1].plot(x, calculate_derivatives(x,A), c=\"blue\")\n",
    "axes[1][1].plot(x, calculate_derivatives(x,A, smooth=True, beta=1.), c=\"blue\")\n",
    "x = np.arange((A.b+A.c)/2+.01,A.c,0.01).astype(np.float32)\n",
    "axes[0][0].plot(x, mf(x,A), c=\"blue\")\n",
    "axes[1][0].plot(x, mf(x,A,smooth=True), c=\"blue\")\n",
    "axes[0][1].plot(x, calculate_derivatives(x,A), c=\"blue\")\n",
    "axes[1][1].plot(x, calculate_derivatives(x,A, smooth=True, beta=1.), c=\"blue\")\n",
    "\n",
    "x = np.arange(A.c+.01,A.d,0.01).astype(np.float32)\n",
    "axes[0][0].plot(x, mf(x,A), c=\"blue\")\n",
    "axes[1][0].plot(x, mf(x,A,smooth=True), c=\"blue\")\n",
    "axes[0][1].plot(x, calculate_derivatives(x,A), c=\"blue\")\n",
    "axes[1][1].plot(x, calculate_derivatives(x,A, smooth=True, beta=1.), c=\"blue\")\n",
    "\n",
    "x = np.arange(A.d+.01,10.,0.01).astype(np.float32)\n",
    "axes[0][0].plot(x, mf(x,A), c=\"blue\")\n",
    "axes[1][0].plot(x, mf(x,A,smooth=True), c=\"blue\")\n",
    "axes[0][1].plot(x, calculate_derivatives(x,A), c=\"blue\")\n",
    "axes[1][1].plot(x, calculate_derivatives(x,A, smooth=True, beta=1.), c=\"blue\")\n",
    "\n",
    "axes[0][0].set_title(r'$I(x)$')\n",
    "axes[1][0].set_title(r'$I_\\sim(x)$, $\\beta=1$')\n",
    "axes[0][1].set_title(r'$\\frac{\\partial I(x)}{\\partial x}$')\n",
    "axes[1][1].set_title(r'$\\frac{\\partial I_\\sim(x)}{\\partial x}$, $\\beta=1$')\n",
    "\n",
    "plt.tight_layout()\n",
    "plt.plot()\n",
    "plt.savefig(\"membership_functions.pdf\")"
   ]
  },
  {
   "cell_type": "code",
   "execution_count": 7,
   "metadata": {},
   "outputs": [
    {
     "name": "stdout",
     "output_type": "stream",
     "text": [
      "tf.Tensor(0.0, shape=(), dtype=float32)\n"
     ]
    }
   ],
   "source": [
    "with tf.GradientTape() as tape:\n",
    "    x = tf.Variable(-90.)\n",
    "    y = iltn.utils.ops.softplus(x)\n",
    "grads = tape.gradient(y,x)\n",
    "print(grads)"
   ]
  },
  {
   "cell_type": "code",
   "execution_count": null,
   "metadata": {},
   "outputs": [],
   "source": []
  }
 ],
 "metadata": {
  "kernelspec": {
   "display_name": "iltn",
   "language": "python",
   "name": "iltn"
  },
  "language_info": {
   "codemirror_mode": {
    "name": "ipython",
    "version": 3
   },
   "file_extension": ".py",
   "mimetype": "text/x-python",
   "name": "python",
   "nbconvert_exporter": "python",
   "pygments_lexer": "ipython3",
   "version": "3.10.6"
  },
  "orig_nbformat": 4,
  "vscode": {
   "interpreter": {
    "hash": "de374fe7e8ae9f25b72d39fffbcee27d55031d1a3da8e8d3de0c685b34a3e0a5"
   }
  }
 },
 "nbformat": 4,
 "nbformat_minor": 2
}
